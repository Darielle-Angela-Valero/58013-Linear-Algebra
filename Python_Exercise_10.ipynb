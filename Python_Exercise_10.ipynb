{
  "nbformat": 4,
  "nbformat_minor": 0,
  "metadata": {
    "colab": {
      "provenance": [],
      "authorship_tag": "ABX9TyNsqVII5TxwaYrFog8qWr4K",
      "include_colab_link": true
    },
    "kernelspec": {
      "name": "python3",
      "display_name": "Python 3"
    },
    "language_info": {
      "name": "python"
    }
  },
  "cells": [
    {
      "cell_type": "markdown",
      "metadata": {
        "id": "view-in-github",
        "colab_type": "text"
      },
      "source": [
        "<a href=\"https://colab.research.google.com/github/Darielle-Angela-Valero/58013-Linear-Algebra/blob/main/Python_Exercise_10.ipynb\" target=\"_parent\"><img src=\"https://colab.research.google.com/assets/colab-badge.svg\" alt=\"Open In Colab\"/></a>"
      ]
    },
    {
      "cell_type": "code",
      "execution_count": null,
      "metadata": {
        "colab": {
          "base_uri": "https://localhost:8080/"
        },
        "id": "DXBoa4B04etI",
        "outputId": "b9205730-cf96-4ba6-f343-478ade04adff"
      },
      "outputs": [
        {
          "output_type": "stream",
          "name": "stdout",
          "text": [
            "[[ 1.  1.  1.]\n",
            " [ 3. -2. -1.]\n",
            " [-1.  4.  2.]]\n",
            "(3, 3)\n",
            "[[ 1.]\n",
            " [ 4.]\n",
            " [-3.]]\n",
            "(3, 1)\n"
          ]
        }
      ],
      "source": [
        "import numpy as np\n",
        "X = np.array([\n",
        "    [1,1,1],\n",
        "    [3,-2,-1],\n",
        "    [-1,4,2]\n",
        "], dtype=float)\n",
        "Y = np.array([\n",
        "    [1],\n",
        "    [4],\n",
        "    [-3]\n",
        "],dtype=float)\n",
        "print(X)\n",
        "print(X.shape)\n",
        "print(Y)\n",
        "print(Y.shape)\n"
      ]
    },
    {
      "cell_type": "code",
      "source": [
        "#Coding Activity 10\n",
        "import numpy as np\n",
        "A = np.array([[30, 10, 120],\n",
        "              [40, 20, 200],\n",
        "              [50, 40, 360]])\n",
        "B = np.array([12500, 18000, 25700])\n",
        "\n",
        "# Solve using NumPy\n",
        "solution = np.linalg.solve(A, B)\n",
        "\n",
        "price_of_flour = solution[0]\n",
        "price_of_yeast = solution[1]\n",
        "price_per_egg = solution[2]\n",
        "\n",
        "# Display the results\n",
        "print(\"Price per sack of flour in Php:\", (price_of_flour) )\n",
        "print(\"Price per pack of yeast:\", (price_of_yeast))\n",
        "print(\"Price per egg:\", (price_per_egg))"
      ],
      "metadata": {
        "colab": {
          "base_uri": "https://localhost:8080/"
        },
        "id": "KLfjAvlu4qPJ",
        "outputId": "580f88f7-ea88-4b0b-e7d5-a85b6df7f373"
      },
      "execution_count": null,
      "outputs": [
        {
          "output_type": "stream",
          "name": "stdout",
          "text": [
            "Price per sack of flour: 330.0\n",
            "Price per pack of yeast: 139.99999999999986\n",
            "Price per egg: 10.00000000000002\n"
          ]
        }
      ]
    }
  ]
}