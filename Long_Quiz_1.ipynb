{
  "nbformat": 4,
  "nbformat_minor": 0,
  "metadata": {
    "colab": {
      "provenance": [],
      "authorship_tag": "ABX9TyPIeKKXLW1Veu9amDTuK7aS",
      "include_colab_link": true
    },
    "kernelspec": {
      "name": "python3",
      "display_name": "Python 3"
    },
    "language_info": {
      "name": "python"
    }
  },
  "cells": [
    {
      "cell_type": "markdown",
      "metadata": {
        "id": "view-in-github",
        "colab_type": "text"
      },
      "source": [
        "<a href=\"https://colab.research.google.com/github/Darielle-Angela-Valero/58013-Linear-Algebra/blob/main/Long_Quiz_1.ipynb\" target=\"_parent\"><img src=\"https://colab.research.google.com/assets/colab-badge.svg\" alt=\"Open In Colab\"/></a>"
      ]
    },
    {
      "cell_type": "code",
      "execution_count": 13,
      "metadata": {
        "colab": {
          "base_uri": "https://localhost:8080/"
        },
        "id": "SxWsoLAEgjRA",
        "outputId": "015d0359-60b8-4d46-aa7f-d3f3f1ef3e3f"
      },
      "outputs": [
        {
          "output_type": "stream",
          "name": "stdout",
          "text": [
            "a.) AB:\n",
            "[[22 28]\n",
            " [49 64]]\n",
            "\n",
            " b.) D + D:\n",
            "[[2 4]\n",
            " [6 8]]\n",
            "\n",
            "C.) 2C:\n",
            "[[ 2  4  6]\n",
            " [ 8 10 12]\n",
            " [14 16 18]]\n"
          ]
        }
      ],
      "source": [
        "# Problem 1\n",
        "\n",
        "import numpy as np\n",
        "A = np.array([[1, 2, 3],\n",
        "              [4, 5, 6]])\n",
        "\n",
        "B = np.array([[1,2],\n",
        "              [3,4],\n",
        "              [5,6]])\n",
        "\n",
        "C = np.array([[1, 2, 3],\n",
        "              [4, 5, 6],\n",
        "              [7, 8, 9]])\n",
        "\n",
        "D = np.array([[1, 2],\n",
        "              [3, 4]])\n",
        "\n",
        "AB = np.dot(A,B)\n",
        "print(\"a.) AB:\")\n",
        "print(AB)\n",
        "\n",
        "DD = D + D\n",
        "print(\"\\n b.) D + D:\")\n",
        "print(DD)\n",
        "\n",
        "s = 2\n",
        "twoC = s*C\n",
        "print(\"\\nC.) 2C:\")\n",
        "print(twoC)\n"
      ]
    },
    {
      "cell_type": "code",
      "source": [
        "# Problem 2  Find the cross-product of matrices, A = [2,7,4] and B = [3,9,8]. Show your solutions using Python program.\n",
        "import numpy as np\n",
        "A = np.array([2, 7, 4])\n",
        "B = np.array([3, 9, 8])\n",
        "product = np.cross(A, B)\n",
        "print(\"Product:\")\n",
        "print(product)\n"
      ],
      "metadata": {
        "colab": {
          "base_uri": "https://localhost:8080/"
        },
        "id": "g1XrRkfmgxM1",
        "outputId": "a2d28761-1602-4539-bbe0-ef8ab4306e5b"
      },
      "execution_count": 8,
      "outputs": [
        {
          "output_type": "stream",
          "name": "stdout",
          "text": [
            "Product:\n",
            "[20 -4 -3]\n"
          ]
        }
      ]
    }
  ]
}