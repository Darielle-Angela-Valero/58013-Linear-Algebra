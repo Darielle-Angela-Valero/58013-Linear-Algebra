{
  "nbformat": 4,
  "nbformat_minor": 0,
  "metadata": {
    "colab": {
      "provenance": [],
      "authorship_tag": "ABX9TyNSU+UV6J49g7wZ3KIlnsuN",
      "include_colab_link": true
    },
    "kernelspec": {
      "name": "python3",
      "display_name": "Python 3"
    },
    "language_info": {
      "name": "python"
    }
  },
  "cells": [
    {
      "cell_type": "markdown",
      "metadata": {
        "id": "view-in-github",
        "colab_type": "text"
      },
      "source": [
        "<a href=\"https://colab.research.google.com/github/Darielle-Angela-Valero/58013-Linear-Algebra/blob/main/Python_Exercise_6.ipynb\" target=\"_parent\"><img src=\"https://colab.research.google.com/assets/colab-badge.svg\" alt=\"Open In Colab\"/></a>"
      ]
    },
    {
      "cell_type": "markdown",
      "source": [
        "Accessing a multidimensional list"
      ],
      "metadata": {
        "id": "016jJX2nfKIK"
      }
    },
    {
      "cell_type": "code",
      "execution_count": 1,
      "metadata": {
        "colab": {
          "base_uri": "https://localhost:8080/"
        },
        "id": "vGYaRY6JetS8",
        "outputId": "5dbc1cfe-b8cb-4e8c-e9c7-c10f0a2b0fe5"
      },
      "outputs": [
        {
          "output_type": "stream",
          "name": "stdout",
          "text": [
            "[[2, 4, 6, 8, 10], [3, 6, 9, 12, 15], [4, 8, 12, 16, 20]]\n"
          ]
        }
      ],
      "source": [
        "# Python program to demonstrate printing of complete multidimensional list\n",
        "a = [[2, 4, 6, 8, 10], [3, 6, 9, 12, 15], [4, 8, 12, 16, 20]]\n",
        "print(a)\n"
      ]
    },
    {
      "cell_type": "markdown",
      "source": [
        "Accessing with the help of loop."
      ],
      "metadata": {
        "id": "uaCRkQ4PfPoJ"
      }
    },
    {
      "cell_type": "code",
      "source": [
        "# Python program to demonstrate printing of complete multidimensional list row by row.\n",
        "a = [[2, 4, 6, 8, 10], [3, 6, 9, 12, 15], [4, 8, 12, 16, 20]]\n",
        "for record in a:\n",
        "    print(record)\n",
        "\n"
      ],
      "metadata": {
        "colab": {
          "base_uri": "https://localhost:8080/"
        },
        "id": "FqZZEZkfe6ml",
        "outputId": "826dd458-f2d7-43fb-e0ff-a9d4e77b34e5"
      },
      "execution_count": 2,
      "outputs": [
        {
          "output_type": "stream",
          "name": "stdout",
          "text": [
            "[2, 4, 6, 8, 10]\n",
            "[3, 6, 9, 12, 15]\n",
            "[4, 8, 12, 16, 20]\n"
          ]
        }
      ]
    },
    {
      "cell_type": "markdown",
      "source": [
        "Accessing using square brackets"
      ],
      "metadata": {
        "id": "fc_jX17MfTDG"
      }
    },
    {
      "cell_type": "code",
      "source": [
        "# Python program to demonstrate that we can access multidimensional list using square brackets\n",
        "a = [ [2, 4, 6, 8 ],\n",
        "    [ 1, 3, 5, 7 ],\n",
        "    [ 8, 6, 4, 2 ],\n",
        "    [ 7, 5, 3, 1 ] ]\n",
        "\n",
        "for i in range(len(a)) :\n",
        "    for j in range(len(a[i])) :\n",
        "        print(a[i][j], end=\" \")\n",
        "    print()\n"
      ],
      "metadata": {
        "colab": {
          "base_uri": "https://localhost:8080/"
        },
        "id": "B2vv7WjvfVvk",
        "outputId": "08eb7980-5033-48fc-d64d-7264e9eba78c"
      },
      "execution_count": 3,
      "outputs": [
        {
          "output_type": "stream",
          "name": "stdout",
          "text": [
            "2 4 6 8 \n",
            "1 3 5 7 \n",
            "8 6 4 2 \n",
            "7 5 3 1 \n"
          ]
        }
      ]
    }
  ]
}