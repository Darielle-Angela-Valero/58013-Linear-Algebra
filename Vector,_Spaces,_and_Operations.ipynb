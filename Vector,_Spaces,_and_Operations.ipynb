{
  "nbformat": 4,
  "nbformat_minor": 0,
  "metadata": {
    "colab": {
      "provenance": [],
      "authorship_tag": "ABX9TyNPf9gpqpevo/iBDVAN8v64",
      "include_colab_link": true
    },
    "kernelspec": {
      "name": "python3",
      "display_name": "Python 3"
    },
    "language_info": {
      "name": "python"
    }
  },
  "cells": [
    {
      "cell_type": "markdown",
      "metadata": {
        "id": "view-in-github",
        "colab_type": "text"
      },
      "source": [
        "<a href=\"https://colab.research.google.com/github/Darielle-Angela-Valero/58013-Linear-Algebra/blob/main/Vector%2C_Spaces%2C_and_Operations.ipynb\" target=\"_parent\"><img src=\"https://colab.research.google.com/assets/colab-badge.svg\" alt=\"Open In Colab\"/></a>"
      ]
    },
    {
      "cell_type": "code",
      "execution_count": 14,
      "metadata": {
        "colab": {
          "base_uri": "https://localhost:8080/"
        },
        "id": "8VbJE9GAjmaZ",
        "outputId": "96c96c25-46c8-4204-d3af-434eb47554a9"
      },
      "outputs": [
        {
          "output_type": "stream",
          "name": "stdout",
          "text": [
            "[1 2 3]\n",
            "[ 0  1 -1]\n",
            "(3, 3)\n"
          ]
        }
      ],
      "source": [
        "#Size Dimension, Size\n",
        "\n",
        "import numpy as np\n",
        "ball1=np.array([1,2,3])\n",
        "ball2 = np.array([0,1,-1])\n",
        "print(ball1)\n",
        "print(ball2)\n",
        "ball = np.shape(ball1)\n",
        "balls = np.shape(ball2)\n",
        "z = ball+balls\n",
        "print(z)\n"
      ]
    },
    {
      "cell_type": "code",
      "source": [
        "#Addition\n",
        "import numpy as np\n",
        "A = np.array([4,3])\n",
        "B = np.array([2,-5])\n",
        "R = A + B #added x and y axis together\n",
        "print(R)"
      ],
      "metadata": {
        "colab": {
          "base_uri": "https://localhost:8080/"
        },
        "id": "gVP0vWwdsHTA",
        "outputId": "f1d9da53-91d8-4bdd-a4f4-2331de3e574d"
      },
      "execution_count": 21,
      "outputs": [
        {
          "output_type": "stream",
          "name": "stdout",
          "text": [
            "[ 6 -2]\n"
          ]
        }
      ]
    },
    {
      "cell_type": "code",
      "source": [
        "#Subtraction\n",
        "r1 = np.subtract(A,B)\n",
        "print(r1)\n",
        "r2 = np.subtract(B,A)\n",
        "print(r2)"
      ],
      "metadata": {
        "colab": {
          "base_uri": "https://localhost:8080/"
        },
        "id": "-JO3NqXHty7e",
        "outputId": "c32eda82-078e-412b-dbfc-445b8804c696"
      },
      "execution_count": 24,
      "outputs": [
        {
          "output_type": "stream",
          "name": "stdout",
          "text": [
            "[2 8]\n",
            "[-2 -8]\n"
          ]
        }
      ]
    },
    {
      "cell_type": "code",
      "source": [
        "#Scalar Product\n",
        "\n",
        "S = np.array([2])\n",
        "V = S*A\n",
        "print(V)"
      ],
      "metadata": {
        "colab": {
          "base_uri": "https://localhost:8080/"
        },
        "id": "ZQGi6seuuhou",
        "outputId": "5cdfab1f-e62b-489f-d895-7a850786536c"
      },
      "execution_count": 26,
      "outputs": [
        {
          "output_type": "stream",
          "name": "stdout",
          "text": [
            "[8 6]\n"
          ]
        }
      ]
    },
    {
      "cell_type": "code",
      "source": [
        "#Dot Product\n",
        "\n",
        "A = np.array ([4,3])\n",
        "B = np.array ([[2],[-5]])\n",
        "\n",
        "print(A*B)\n"
      ],
      "metadata": {
        "colab": {
          "base_uri": "https://localhost:8080/"
        },
        "id": "-gAvvliIvHTj",
        "outputId": "c16486f3-c268-41e8-8566-7840fc9dd1d5"
      },
      "execution_count": 42,
      "outputs": [
        {
          "output_type": "stream",
          "name": "stdout",
          "text": [
            "[[  8   6]\n",
            " [-20 -15]]\n"
          ]
        }
      ]
    },
    {
      "cell_type": "code",
      "source": [
        "#Property of Matrix\n",
        "\n",
        "#Identity Matrix\n",
        "c = np.eye(3,3)\n",
        "print(\"\\n\",c)\n",
        "\n",
        "#Zero Matrix\n",
        "d = np.zeros([5,5])\n",
        "print(\"\\n\",d)\n",
        "\n",
        "#Full Matrix\n",
        "e = np.full((3,3),7)\n",
        "print(\"\\n\",e)\n",
        "\n",
        "#Transpose Matrix\n",
        "f = np.transpose(A)\n",
        "print(\"\\n\",f)\n",
        "\n",
        "g = np.array([[4,3],[2,-5]])\n",
        "g.transpose()\n",
        "\n",
        "#Empty Matrix\n",
        "c = np.empty([2,2])\n",
        "print(\"\\n\", c)\n",
        "\n",
        "\n"
      ],
      "metadata": {
        "colab": {
          "base_uri": "https://localhost:8080/"
        },
        "id": "I99GMLiOzKWi",
        "outputId": "dcfc97d9-4d6e-45b5-d9d3-f06a7c366f7a"
      },
      "execution_count": 54,
      "outputs": [
        {
          "output_type": "stream",
          "name": "stdout",
          "text": [
            "\n",
            " [[1. 0. 0.]\n",
            " [0. 1. 0.]\n",
            " [0. 0. 1.]]\n",
            "\n",
            " [[0. 0. 0. 0. 0.]\n",
            " [0. 0. 0. 0. 0.]\n",
            " [0. 0. 0. 0. 0.]\n",
            " [0. 0. 0. 0. 0.]\n",
            " [0. 0. 0. 0. 0.]]\n",
            "\n",
            " [[7 7 7]\n",
            " [7 7 7]\n",
            " [7 7 7]]\n",
            "\n",
            " [4 3]\n",
            "\n",
            " [[4.94064261e-310 0.00000000e+000]\n",
            " [5.73116149e-322 2.56761491e-312]]\n"
          ]
        }
      ]
    }
  ]
}