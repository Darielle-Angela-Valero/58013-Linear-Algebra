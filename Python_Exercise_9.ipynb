{
  "nbformat": 4,
  "nbformat_minor": 0,
  "metadata": {
    "colab": {
      "provenance": [],
      "authorship_tag": "ABX9TyMYv6mhEy8/1FF5zGe8as2G",
      "include_colab_link": true
    },
    "kernelspec": {
      "name": "python3",
      "display_name": "Python 3"
    },
    "language_info": {
      "name": "python"
    }
  },
  "cells": [
    {
      "cell_type": "markdown",
      "metadata": {
        "id": "view-in-github",
        "colab_type": "text"
      },
      "source": [
        "<a href=\"https://colab.research.google.com/github/Darielle-Angela-Valero/58013-Linear-Algebra/blob/main/Python_Exercise_9.ipynb\" target=\"_parent\"><img src=\"https://colab.research.google.com/assets/colab-badge.svg\" alt=\"Open In Colab\"/></a>"
      ]
    },
    {
      "cell_type": "code",
      "execution_count": null,
      "metadata": {
        "colab": {
          "base_uri": "https://localhost:8080/"
        },
        "id": "1HRjQBcu3-Y1",
        "outputId": "a82d54d0-ecc6-448a-a64e-291e6415ec05"
      },
      "outputs": [
        {
          "output_type": "execute_result",
          "data": {
            "text/plain": [
              "-235.0000000000002"
            ]
          },
          "metadata": {},
          "execution_count": 2
        }
      ],
      "source": [
        "import numpy as np\n",
        "A = np.array([\n",
        "    [1,4],\n",
        "    [0,3]\n",
        "])\n",
        "np.linalg.det(A)\n",
        "\n",
        "## Now other mathematics classes would require you to solve this by hand,\n",
        "## and that is great for practicing your memorization and coordination skills\n",
        "## but in this class we aim for simplicity and speed so we'll use programming\n",
        "## but it's completely fine if you want to try to solve this one by hand.\n",
        "B = np.array([\n",
        "    [1,3,5,6],\n",
        "    [0,3,1,3],\n",
        "    [3,1,8,2],\n",
        "    [5,2,6,8]\n",
        "])\n",
        "np.linalg.det(B)\n"
      ]
    },
    {
      "cell_type": "markdown",
      "source": [
        "Coding Activity 9: Prove and implement the remaining 6 matrix multiplication properties. You may create your own matrices in which their shapes should not be lower than (3,3). In your methodology, create individual flowcharts for each property and discuss the property you would then present your proofs or validity of your implementation in the results section by comparing your result to present functions from NumPy."
      ],
      "metadata": {
        "id": "8RS8ui2w93T4"
      }
    },
    {
      "cell_type": "code",
      "source": [
        "#Commutative Property\n",
        "import numpy as np\n",
        "A = np.array([[1, 2, 3],\n",
        "              [4, 5, 6],\n",
        "              [7, 8, 9]])\n",
        "\n",
        "B = np.array([[9, 8, 7],\n",
        "              [6, 5, 4],\n",
        "              [3, 2, 1]])\n",
        "\n",
        "#  A * B\n",
        "result1 = np.dot(A, B)\n",
        "print(\"A*B:\\n\",result1)\n",
        "\n",
        "#  B * A\n",
        "result2 = np.dot(B, A)\n",
        "print(\"B*A:\\n\",result2)\n",
        "\n",
        "# Check if the results are equal\n",
        "if np.array_equal(result1, result2):\n",
        "    print(\"Matrix multiplication is commutative for 3x3 matrices.\")\n",
        "else:\n",
        "    print(\"Matrix multiplication is not commutative for 3x3 matrices.\")"
      ],
      "metadata": {
        "colab": {
          "base_uri": "https://localhost:8080/"
        },
        "id": "1VvJDEEI4ZBr",
        "outputId": "4c541142-de8f-466a-fd2d-a02a0bf7fba4"
      },
      "execution_count": null,
      "outputs": [
        {
          "output_type": "stream",
          "name": "stdout",
          "text": [
            "A*B:\n",
            " [[ 30  24  18]\n",
            " [ 84  69  54]\n",
            " [138 114  90]]\n",
            "B*A:\n",
            " [[ 90 114 138]\n",
            " [ 54  69  84]\n",
            " [ 18  24  30]]\n",
            "Matrix multiplication is not commutative for 3x3 matrices.\n"
          ]
        }
      ]
    },
    {
      "cell_type": "code",
      "source": [
        "#Associative Property\n",
        "import numpy as np\n",
        "A = np.array([[1, 2, 3],\n",
        "              [4, 5, 6],\n",
        "              [7, 8, 9]])\n",
        "\n",
        "B = np.array([[9, 8, 7],\n",
        "              [6, 5, 4],\n",
        "              [3, 2, 1]])\n",
        "\n",
        "C = np.array([[2, 4, 6],\n",
        "              [8, 10, 12],\n",
        "              [3, 6, 9]])\n",
        "\n",
        "# Calculate (A * B) * C\n",
        "result1 = np.dot(np.dot(A, B), C)\n",
        "print(\"(A*B)*C:\\n\",result1)\n",
        "\n",
        "# Calculate A * (B * C)\n",
        "result2 = np.dot(A, np.dot(B, C))\n",
        "print(\" A*(B*C):\\n\",result2)\n",
        "\n",
        "# Check if the results are equal\n",
        "if np.array_equal(result1, result2):\n",
        "    print(\"Matrix multiplication is associative for 3x3 matrices.\")\n",
        "else:\n",
        "    print(\"Matrix multiplication is not associative for 3x3 matrices.\")"
      ],
      "metadata": {
        "colab": {
          "base_uri": "https://localhost:8080/"
        },
        "id": "FGU6Bp7k_cDR",
        "outputId": "20bb358c-6bbe-4ab6-f85c-1bc22832f3a2"
      },
      "execution_count": null,
      "outputs": [
        {
          "output_type": "stream",
          "name": "stdout",
          "text": [
            "(A*B)*C:\n",
            " [[ 306  468  630]\n",
            " [ 882 1350 1818]\n",
            " [1458 2232 3006]]\n",
            " A*(B*C):\n",
            " [[ 306  468  630]\n",
            " [ 882 1350 1818]\n",
            " [1458 2232 3006]]\n",
            "Matrix multiplication is associative for 3x3 matrices.\n"
          ]
        }
      ]
    },
    {
      "cell_type": "code",
      "source": [
        "#Distributive Property\n",
        "import numpy as np\n",
        "A = np.array([[1, 2, 3],\n",
        "              [4, 5, 6],\n",
        "              [7, 8, 9]])\n",
        "\n",
        "B = np.array([[9, 8, 7],\n",
        "              [6, 5, 4],\n",
        "              [3, 2, 1]])\n",
        "\n",
        "C = np.array([[2, 4, 6],\n",
        "              [8, 10, 12],\n",
        "              [3, 6, 9]])\n",
        "\n",
        "# A * (B + C)\n",
        "result1 = np.dot(A, B + C)\n",
        "print(\"A*(B + C):\\n\", result1)\n",
        "\n",
        "# (A * B) + (A * C)\n",
        "result2 = np.dot(A, B) + np.dot(A, C)\n",
        "print(\"(A * B) + (A * C):\\n\", result2)\n",
        "\n",
        "# Check if the results are equal\n",
        "if np.array_equal(result1, result2):\n",
        "    print(\"Matrix multiplication is distributive.\")\n",
        "else:\n",
        "    print(\"Matrix multiplication is not distributive.\")"
      ],
      "metadata": {
        "colab": {
          "base_uri": "https://localhost:8080/"
        },
        "id": "CVEDCc5TEqvG",
        "outputId": "ed2b6577-fa60-47e9-a8d9-a8826f09339d"
      },
      "execution_count": null,
      "outputs": [
        {
          "output_type": "stream",
          "name": "stdout",
          "text": [
            "A*(B + C):\n",
            " [[ 57  66  75]\n",
            " [150 171 192]\n",
            " [243 276 309]]\n",
            "(A * B) + (A * C):\n",
            " [[ 57  66  75]\n",
            " [150 171 192]\n",
            " [243 276 309]]\n",
            "Matrix multiplication is distributive over addition for 3x3 matrices.\n"
          ]
        }
      ]
    },
    {
      "cell_type": "code",
      "source": [
        "#Identity Property\n",
        "import numpy as np\n",
        "A = np.array([[1, 2, 3],\n",
        "              [4, 5, 6],\n",
        "              [7, 8, 9]])\n",
        "\n",
        "I = np.identity(3)\n",
        "\n",
        "#  I * A\n",
        "result1 = np.dot(I,A)\n",
        "print(\"I*A:\\n\", result1)\n",
        "\n",
        "#  A * I\n",
        "result2 = np.dot(A,I)\n",
        "print(\"A*I:\\n\",result2)\n",
        "# Check if the results are equal to A\n",
        "if np.array_equal(result1, A) and np.array_equal(result2, A):\n",
        "    print(\"Identity matrix multiplication property holds for 3x3 matrices.\")\n",
        "else:\n",
        "    print(\"Identity matrix multiplication property does not hold for 3x3 matrices.\")"
      ],
      "metadata": {
        "colab": {
          "base_uri": "https://localhost:8080/"
        },
        "id": "6GM5TGYSGXtE",
        "outputId": "27df82b3-d3f4-4063-e89b-3616353d31d3"
      },
      "execution_count": null,
      "outputs": [
        {
          "output_type": "stream",
          "name": "stdout",
          "text": [
            "I*A:\n",
            " [[1. 2. 3.]\n",
            " [4. 5. 6.]\n",
            " [7. 8. 9.]]\n",
            "A*I:\n",
            " [[1. 2. 3.]\n",
            " [4. 5. 6.]\n",
            " [7. 8. 9.]]\n",
            "Identity matrix multiplication property holds for 3x3 matrices.\n"
          ]
        }
      ]
    },
    {
      "cell_type": "code",
      "source": [
        "#Zero Property\n",
        "\n",
        "import numpy as np\n",
        "# Create two matrices .\n",
        "A = np.array([[1, 2, 3], [4, 5, 6], [7, 8, 9]])\n",
        "B = np.zeros((3, 3))\n",
        "\n",
        "# Multiply\n",
        "result = np.dot(A, B)\n",
        "\n",
        "print(\"Matrix A:\")\n",
        "print(A)\n",
        "print(\"Zero Matrix B:\")\n",
        "print(B)\n",
        "print(\"Result of multiplication that leads to Zero Matrix:\")\n",
        "print(result)"
      ],
      "metadata": {
        "colab": {
          "base_uri": "https://localhost:8080/"
        },
        "id": "hVDIatTJWsoE",
        "outputId": "1f70d5e5-8aa8-4ae5-8a48-9c03c9048b42"
      },
      "execution_count": 2,
      "outputs": [
        {
          "output_type": "stream",
          "name": "stdout",
          "text": [
            "Matrix A:\n",
            "[[1 2 3]\n",
            " [4 5 6]\n",
            " [7 8 9]]\n",
            "Zero Matrix B:\n",
            "[[0. 0. 0.]\n",
            " [0. 0. 0.]\n",
            " [0. 0. 0.]]\n",
            "Result of multiplication that leads to Zero Matrix:\n",
            "[[0. 0. 0.]\n",
            " [0. 0. 0.]\n",
            " [0. 0. 0.]]\n"
          ]
        }
      ]
    },
    {
      "cell_type": "code",
      "source": [
        "#Dimension Property\n",
        "\n",
        "import numpy as np\n",
        "#two matrices\n",
        "A = np.array([[1, 2, 3], [4, 5, 6], [7, 8, 9]])\n",
        "B = np.array([[9, 8, 7], [6, 5, 4], [3, 2, 1]])\n",
        "\n",
        "# Multiply\n",
        "result = np.dot(A, B)\n",
        "\n",
        "print(\"Matrix A (3x3):\")\n",
        "print(A)\n",
        "print(\"Matrix B (3x3):\")\n",
        "print(B)\n",
        "print(\" A * B (3x3):\")\n",
        "print(result)\n",
        "print(\"Resulting matrix dimensions:\", result.shape)"
      ],
      "metadata": {
        "colab": {
          "base_uri": "https://localhost:8080/"
        },
        "id": "YI7NQqVzY8jr",
        "outputId": "6256f89f-2265-42e2-9906-d9429454dd09"
      },
      "execution_count": 4,
      "outputs": [
        {
          "output_type": "stream",
          "name": "stdout",
          "text": [
            "Matrix A (3x3):\n",
            "[[1 2 3]\n",
            " [4 5 6]\n",
            " [7 8 9]]\n",
            "Matrix B (3x3):\n",
            "[[9 8 7]\n",
            " [6 5 4]\n",
            " [3 2 1]]\n",
            " A * B (3x3):\n",
            "[[ 30  24  18]\n",
            " [ 84  69  54]\n",
            " [138 114  90]]\n",
            "Resulting matrix dimensions: (3, 3)\n"
          ]
        }
      ]
    }
  ]
}