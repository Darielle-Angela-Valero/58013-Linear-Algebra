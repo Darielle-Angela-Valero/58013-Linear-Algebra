{
  "nbformat": 4,
  "nbformat_minor": 0,
  "metadata": {
    "colab": {
      "provenance": [],
      "authorship_tag": "ABX9TyPe8Y7/UKH+JdVC9WIi5hi7",
      "include_colab_link": true
    },
    "kernelspec": {
      "name": "python3",
      "display_name": "Python 3"
    },
    "language_info": {
      "name": "python"
    }
  },
  "cells": [
    {
      "cell_type": "markdown",
      "metadata": {
        "id": "view-in-github",
        "colab_type": "text"
      },
      "source": [
        "<a href=\"https://colab.research.google.com/github/Darielle-Angela-Valero/58013-Linear-Algebra/blob/main/Prelim_Exam.ipynb\" target=\"_parent\"><img src=\"https://colab.research.google.com/assets/colab-badge.svg\" alt=\"Open In Colab\"/></a>"
      ]
    },
    {
      "cell_type": "code",
      "execution_count": 2,
      "metadata": {
        "colab": {
          "base_uri": "https://localhost:8080/"
        },
        "id": "fC6yMBTrtAko",
        "outputId": "12294302-7ee2-49c1-dbff-65f6539624c3"
      },
      "outputs": [
        {
          "output_type": "stream",
          "name": "stdout",
          "text": [
            "By 1:\n",
            " [[ 1  2]\n",
            " [ 3  4]\n",
            " [ 5  6]\n",
            " [ 7  8]\n",
            " [ 9 10]]\n",
            "By 2:\n",
            " [[ 2  4]\n",
            " [ 6  8]\n",
            " [10 12]\n",
            " [14 16]\n",
            " [18 20]]\n",
            "By 3:\n",
            " [[ 3  6]\n",
            " [ 9 12]\n",
            " [15 18]\n",
            " [21 24]\n",
            " [27 30]]\n",
            "By 4:\n",
            " [[ 4  8]\n",
            " [12 16]\n",
            " [20 24]\n",
            " [28 32]\n",
            " [36 40]]\n",
            "By 5:\n",
            " [[ 5 10]\n",
            " [15 20]\n",
            " [25 30]\n",
            " [35 40]\n",
            " [45 50]]\n",
            "By 6:\n",
            " [[ 6 12]\n",
            " [18 24]\n",
            " [30 36]\n",
            " [42 48]\n",
            " [54 60]]\n",
            "By 7:\n",
            " [[ 7 14]\n",
            " [21 28]\n",
            " [35 42]\n",
            " [49 56]\n",
            " [63 70]]\n",
            "By 8:\n",
            " [[ 8 16]\n",
            " [24 32]\n",
            " [40 48]\n",
            " [56 64]\n",
            " [72 80]]\n",
            "By 9:\n",
            " [[ 9 18]\n",
            " [27 36]\n",
            " [45 54]\n",
            " [63 72]\n",
            " [81 90]]\n",
            "By 10:\n",
            " [[ 10  20]\n",
            " [ 30  40]\n",
            " [ 50  60]\n",
            " [ 70  80]\n",
            " [ 90 100]]\n"
          ]
        }
      ],
      "source": [
        "# Question 1. (20 points) Create a Multiplication Table/Chart of 1 to 10 using numpy/ python program.\n",
        "import numpy as np\n",
        "numbers = np.array([[1,2],\n",
        "              [3,4],\n",
        "              [5,6],\n",
        "              [7,8],\n",
        "              [9,10]])\n",
        "one = 1\n",
        "onechart = one*numbers\n",
        "print(\"By 1:\\n\", onechart)\n",
        "\n",
        "two = 2\n",
        "twochart = two*numbers\n",
        "print(\"By 2:\\n\", twochart)\n",
        "\n",
        "three = 3\n",
        "threechart = three*numbers\n",
        "print(\"By 3:\\n\", threechart)\n",
        "\n",
        "four = 4\n",
        "fourchart = four*numbers\n",
        "print(\"By 4:\\n\", fourchart)\n",
        "\n",
        "five = 5\n",
        "fivechart = five*numbers\n",
        "print(\"By 5:\\n\", fivechart)\n",
        "\n",
        "six = 6\n",
        "sixchart = six*numbers\n",
        "print(\"By 6:\\n\", sixchart)\n",
        "\n",
        "seven = 7\n",
        "sevenchart = seven*numbers\n",
        "print(\"By 7:\\n\", sevenchart)\n",
        "\n",
        "eight = 8\n",
        "eightchart = eight*numbers\n",
        "print(\"By 8:\\n\", eightchart)\n",
        "\n",
        "nine = 9\n",
        "ninechart = nine*numbers\n",
        "print(\"By 9:\\n\", ninechart)\n",
        "\n",
        "ten = 10\n",
        "tenchart = ten*numbers\n",
        "print(\"By 10:\\n\", tenchart)\n"
      ]
    },
    {
      "cell_type": "code",
      "source": [
        "# Question 2. (10 points) In relation to Question 1, show a solution that doubles all the values of each element.\n",
        "import numpy as np\n",
        "numbers = np.array([[1,2],\n",
        "              [3,4],\n",
        "              [5,6],\n",
        "              [7,8],\n",
        "              [9,10]])\n",
        "\n",
        "one = 1\n",
        "onechart = one*numbers\n",
        "oneD = onechart*2\n",
        "print(\"Double Values of 1:\\n\", oneD)\n",
        "\n",
        "two = 2\n",
        "twochart = two*numbers\n",
        "twoD = twochart*2\n",
        "print(\"Double Values of 2:\\n\", twoD)\n",
        "\n",
        "\n",
        "three = 3\n",
        "threechart = three*numbers\n",
        "threeD = threechart*2\n",
        "print(\"Double Values of 3:\\n\", threeD)\n",
        "\n",
        "\n",
        "four = 4\n",
        "fourchart = four*numbers\n",
        "fourD = fourchart*2\n",
        "print(\"Double Values of 4:\\n\", fourD)\n",
        "\n",
        "\n",
        "five = 5\n",
        "fivechart = five*numbers\n",
        "fiveD = fivechart*2\n",
        "print(\"Double Values of 5:\\n\", fiveD)\n",
        "\n",
        "\n",
        "six = 6\n",
        "sixchart = six*numbers\n",
        "sixD = sixchart*2\n",
        "print(\"Double Values of 6:\\n\", sixD)\n",
        "\n",
        "\n",
        "seven = 7\n",
        "sevenchart = seven*numbers\n",
        "sevD = sevenchart*2\n",
        "print(\"Double Values of 7:\\n\", sevD)\n",
        "\n",
        "\n",
        "eight = 8\n",
        "eightchart = eight*numbers\n",
        "eytD = eightchart*2\n",
        "print(\"Double Values of 8:\\n\", eytD)\n",
        "\n",
        "nine = 9\n",
        "ninechart = nine*numbers\n",
        "nineD = ninechart*2\n",
        "print(\"Double Values of 9:\\n\", nineD)\n",
        "\n",
        "ten = 10\n",
        "tenchart = ten*numbers\n",
        "tenD = tenchart*2\n",
        "print(\"Double Values of 10:\\n\", tenD)\n",
        "\n"
      ],
      "metadata": {
        "colab": {
          "base_uri": "https://localhost:8080/"
        },
        "id": "DO93dORBtQkJ",
        "outputId": "386cc1b8-1e5c-4ff7-c7c4-f40446cb3a4f"
      },
      "execution_count": 5,
      "outputs": [
        {
          "output_type": "stream",
          "name": "stdout",
          "text": [
            "Double Values of 1:\n",
            " [[ 2  4]\n",
            " [ 6  8]\n",
            " [10 12]\n",
            " [14 16]\n",
            " [18 20]]\n",
            "Double Values of 2:\n",
            " [[ 4  8]\n",
            " [12 16]\n",
            " [20 24]\n",
            " [28 32]\n",
            " [36 40]]\n",
            "Double Values of 3:\n",
            " [[ 6 12]\n",
            " [18 24]\n",
            " [30 36]\n",
            " [42 48]\n",
            " [54 60]]\n",
            "Double Values of 4:\n",
            " [[ 8 16]\n",
            " [24 32]\n",
            " [40 48]\n",
            " [56 64]\n",
            " [72 80]]\n",
            "Double Values of 5:\n",
            " [[ 10  20]\n",
            " [ 30  40]\n",
            " [ 50  60]\n",
            " [ 70  80]\n",
            " [ 90 100]]\n",
            "Double Values of 6:\n",
            " [[ 12  24]\n",
            " [ 36  48]\n",
            " [ 60  72]\n",
            " [ 84  96]\n",
            " [108 120]]\n",
            "Double Values of 7:\n",
            " [[ 14  28]\n",
            " [ 42  56]\n",
            " [ 70  84]\n",
            " [ 98 112]\n",
            " [126 140]]\n",
            "Double Values of 8:\n",
            " [[ 16  32]\n",
            " [ 48  64]\n",
            " [ 80  96]\n",
            " [112 128]\n",
            " [144 160]]\n",
            "Double Values of 9:\n",
            " [[ 18  36]\n",
            " [ 54  72]\n",
            " [ 90 108]\n",
            " [126 144]\n",
            " [162 180]]\n",
            "Double Values of 10:\n",
            " [[ 20  40]\n",
            " [ 60  80]\n",
            " [100 120]\n",
            " [140 160]\n",
            " [180 200]]\n"
          ]
        }
      ]
    },
    {
      "cell_type": "code",
      "source": [
        "# Question 3. (10 points) Create a square matrix that has a diagonal 1's.\n",
        "import numpy as np\n",
        "square = np.eye(3,3)\n",
        "print(square)"
      ],
      "metadata": {
        "colab": {
          "base_uri": "https://localhost:8080/"
        },
        "id": "kdcaDYObtQtA",
        "outputId": "715c4efb-44c8-4233-d8f4-1ddb57c0098c"
      },
      "execution_count": 1,
      "outputs": [
        {
          "output_type": "stream",
          "name": "stdout",
          "text": [
            "[[1. 0. 0.]\n",
            " [0. 1. 0.]\n",
            " [0. 0. 1.]]\n"
          ]
        }
      ]
    },
    {
      "cell_type": "code",
      "source": [
        "# Question 4: Type a python program that can view the size, shape, and dimension of the matrix.\n",
        "import numpy as np\n",
        "matrix = np.array([[1, 2, 3, 4],\n",
        "                   [5, 6, 7, 8],\n",
        "                   [9, 10, 11, 12]])\n",
        "print(\"Matrix:\\n\",np.matrix(matrix))\n",
        "z = np.size(matrix)\n",
        "print(\"Size:\",z)\n",
        "y = np.shape(matrix)\n",
        "print(\"Shape:\",y)\n",
        "x = np.ndim(matrix)\n",
        "print(\"Dimension:\",x)\n",
        "\n",
        "\n",
        "\n"
      ],
      "metadata": {
        "colab": {
          "base_uri": "https://localhost:8080/"
        },
        "id": "erXbCavru2hP",
        "outputId": "108e27c5-f0ea-4b24-9a3d-cab25af4516d"
      },
      "execution_count": 7,
      "outputs": [
        {
          "output_type": "stream",
          "name": "stdout",
          "text": [
            "Matrix:\n",
            " [[ 1  2  3  4]\n",
            " [ 5  6  7  8]\n",
            " [ 9 10 11 12]]\n",
            "Size: 12\n",
            "Shape: (3, 4)\n",
            "Dimension: 2\n"
          ]
        }
      ]
    },
    {
      "cell_type": "code",
      "source": [
        "# Question 5: Create a result array by adding the following two NumPy arrays. Next, modify the result array by calculating the square of each element.\n",
        "import numpy as np\n",
        "\n",
        "arrayOne = np.array([[5,6,9],[21,18,27]])\n",
        "arrayTwo = np.array([[15,33,24],[4,7,1]])\n",
        "\n",
        "arraysum = arrayOne + arrayTwo\n",
        "print(\"Sum of two NumPy arrays:\\n\",arraysum)\n",
        "\n",
        "sqrd = arraysum**2\n",
        "print(\"Squared result:\\n\",sqrd)"
      ],
      "metadata": {
        "colab": {
          "base_uri": "https://localhost:8080/"
        },
        "id": "S25H73hwt7N4",
        "outputId": "8a15e5e8-12e0-4476-f123-14cbb75be712"
      },
      "execution_count": 6,
      "outputs": [
        {
          "output_type": "stream",
          "name": "stdout",
          "text": [
            "Sum of two NumPy arrays:\n",
            " [[20 39 33]\n",
            " [25 25 28]]\n",
            "Squared result:\n",
            " [[ 400 1521 1089]\n",
            " [ 625  625  784]]\n"
          ]
        }
      ]
    }
  ]
}