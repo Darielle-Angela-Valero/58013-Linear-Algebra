{
  "nbformat": 4,
  "nbformat_minor": 0,
  "metadata": {
    "colab": {
      "provenance": [],
      "authorship_tag": "ABX9TyM+FuhSITI3kvISESQaYeXt",
      "include_colab_link": true
    },
    "kernelspec": {
      "name": "python3",
      "display_name": "Python 3"
    },
    "language_info": {
      "name": "python"
    }
  },
  "cells": [
    {
      "cell_type": "markdown",
      "metadata": {
        "id": "view-in-github",
        "colab_type": "text"
      },
      "source": [
        "<a href=\"https://colab.research.google.com/github/Darielle-Angela-Valero/58013-Linear-Algebra/blob/main/Python_Exercise_4.ipynb\" target=\"_parent\"><img src=\"https://colab.research.google.com/assets/colab-badge.svg\" alt=\"Open In Colab\"/></a>"
      ]
    },
    {
      "cell_type": "markdown",
      "source": [
        "Vector Addition"
      ],
      "metadata": {
        "id": "y7PEscK6aGFL"
      }
    },
    {
      "cell_type": "code",
      "execution_count": 5,
      "metadata": {
        "colab": {
          "base_uri": "https://localhost:8080/"
        },
        "id": "v-c8pInAL9M0",
        "outputId": "cee7fba6-f4f6-47dd-cf2a-6431f6165ae8"
      },
      "outputs": [
        {
          "output_type": "stream",
          "name": "stdout",
          "text": [
            "Sum:\n",
            " [[-0.8  1.9 -0.9]\n",
            " [ 3.9  6.6  3.8]\n",
            " [-1.   1.7 -1.1]]\n"
          ]
        }
      ],
      "source": [
        "import numpy as np\n",
        "#Given vector values\n",
        "A = np.array([[-0.4],[4.3],[-0.6]]) #column vector\n",
        "B = np.array([[-0.2,0.2,1]]) # 1x2 array\n",
        "C = np.array([[-0.2,2.1,-1.5]]) # 1x3 array\n",
        "sum = A + B + C\n",
        "print(\"Sum:\\n\", sum)\n"
      ]
    },
    {
      "cell_type": "markdown",
      "source": [
        "Vector Subtraction\n"
      ],
      "metadata": {
        "id": "HPBSuVxfaMTg"
      }
    },
    {
      "cell_type": "code",
      "source": [
        "import numpy as np\n",
        "#Given vector values\n",
        "A = np.array([[-0.4],[4.3],[-0.6]]) # 3x1 column vector\n",
        "B = np.array([[-0.2,0.2,1]]) # 1x2 array\n",
        "C = np.array([[-0.2,2.1,-1.5]]) # 1x3 array\n",
        "diff1 =  A - B - C\n",
        "print(\"Diffrence:\\n\", diff1)\n",
        "\n"
      ],
      "metadata": {
        "colab": {
          "base_uri": "https://localhost:8080/"
        },
        "id": "KqYJJkeSaUZD",
        "outputId": "568a57b6-2dd1-4f08-9bd0-74d8e30b85a2"
      },
      "execution_count": 6,
      "outputs": [
        {
          "output_type": "stream",
          "name": "stdout",
          "text": [
            "Diffrence:\n",
            " [[ 0.  -2.7  0.1]\n",
            " [ 4.7  2.   4.8]\n",
            " [-0.2 -2.9 -0.1]]\n"
          ]
        }
      ]
    },
    {
      "cell_type": "markdown",
      "source": [
        "Vector Multiplication"
      ],
      "metadata": {
        "id": "q1NzPboJgOQp"
      }
    },
    {
      "cell_type": "code",
      "source": [
        "import numpy as np\n",
        "#Given vector values\n",
        "A = np.array([[-0.4],[4.3],[-0.6]]) #column vector\n",
        "B = np.array([[-0.2,0.2,1]]) # 1x2 array\n",
        "C = np.array([[-0.2,2.1,-1.5]]) # 1x3 array\n",
        "product= A*B*C\n",
        "print(\"Product:\\n\",product)"
      ],
      "metadata": {
        "colab": {
          "base_uri": "https://localhost:8080/"
        },
        "id": "NqAJqj6OgNc1",
        "outputId": "8e198f90-bba6-4d82-ba38-738c3f46b70c"
      },
      "execution_count": 7,
      "outputs": [
        {
          "output_type": "stream",
          "name": "stdout",
          "text": [
            "Product:\n",
            " [[-0.016 -0.168  0.6  ]\n",
            " [ 0.172  1.806 -6.45 ]\n",
            " [-0.024 -0.252  0.9  ]]\n"
          ]
        }
      ]
    },
    {
      "cell_type": "markdown",
      "source": [
        "Vector Division"
      ],
      "metadata": {
        "id": "XapMs3rmiG7F"
      }
    },
    {
      "cell_type": "code",
      "source": [
        "import numpy as np\n",
        "#Given vector values\n",
        "A = np.array([[-0.4],[4.3],[-0.6]]) #column vector\n",
        "B = np.array([[-0.2,0.2,1]]) # 1x2 array\n",
        "C = np.array([[-0.2,2.1,-1.5]]) # 1x3 array\n",
        "quotient = A/B/C\n",
        "print(\"Quotient:\\n\", quotient)"
      ],
      "metadata": {
        "colab": {
          "base_uri": "https://localhost:8080/"
        },
        "id": "z0A9SIg0hhzw",
        "outputId": "547e1d10-1b12-4937-d0c4-a58201d93545"
      },
      "execution_count": 10,
      "outputs": [
        {
          "output_type": "stream",
          "name": "stdout",
          "text": [
            "Quotient:\n",
            " [[-10.          -0.95238095   0.26666667]\n",
            " [107.5         10.23809524  -2.86666667]\n",
            " [-15.          -1.42857143   0.4       ]]\n"
          ]
        }
      ]
    }
  ]
}